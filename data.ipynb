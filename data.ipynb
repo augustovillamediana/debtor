{
  "cells": [
    {
      "cell_type": "code",
      "execution_count": null,
      "id": "d3244906",
      "metadata": {},
      "outputs": [],
      "source": [
        "# Install requirements\n",
        "!pip install faker"
      ]
    },
    {
      "cell_type": "code",
      "execution_count": null,
      "metadata": {},
      "outputs": [],
      "source": [
        "import sqlite3\n",
        "from faker import Faker\n",
        "import random\n",
        "from datetime import datetime, timedelta\n"
      ]
    },
    {
      "cell_type": "code",
      "execution_count": null,
      "metadata": {},
      "outputs": [],
      "source": [
        "# Initialize Faker and SQLite\n",
        "fake = Faker()\n",
        "conn = sqlite3.connect('debtor_data.db')\n",
        "cursor = conn.cursor()\n"
      ]
    },
    {
      "cell_type": "code",
      "execution_count": null,
      "metadata": {},
      "outputs": [],
      "source": [
        "# Create tables\n",
        "cursor.execute('''\n",
        "CREATE TABLE IF NOT EXISTS MassiveActions (\n",
        "    action_id INTEGER PRIMARY KEY,\n",
        "    debtor_id INTEGER,\n",
        "    action_type TEXT,\n",
        "    action_date TEXT,\n",
        "    action_status TEXT\n",
        ")\n",
        "''')\n",
        "\n",
        "cursor.execute('''\n",
        "CREATE TABLE IF NOT EXISTS PaymentAgreements (\n",
        "    agreement_id INTEGER PRIMARY KEY,\n",
        "    debtor_id INTEGER,\n",
        "    agreement_date TEXT,\n",
        "    payment_plan TEXT,\n",
        "    due_date TEXT\n",
        ")\n",
        "''')\n",
        "\n",
        "cursor.execute('''\n",
        "CREATE TABLE IF NOT EXISTS PaymentConfirmations (\n",
        "    payment_id INTEGER PRIMARY KEY,\n",
        "    debtor_id INTEGER,\n",
        "    payment_date TEXT,\n",
        "    amount_paid REAL,\n",
        "    receipt_confirmed TEXT\n",
        ")\n",
        "''')\n"
      ]
    },
    {
      "cell_type": "code",
      "execution_count": null,
      "metadata": {},
      "outputs": [],
      "source": [
        "# Function to generate random dates\n",
        "def random_date(start, end):\n",
        "    return start + timedelta(days=random.randint(0, (end - start).days))\n"
      ]
    },
    {
      "cell_type": "code",
      "execution_count": null,
      "metadata": {},
      "outputs": [],
      "source": [
        "# Generate Massive Actions data\n",
        "for _ in range(10000):\n",
        "    debtor_id = random.randint(1000, 2000)\n",
        "    action_type = random.choice(['SMS', 'Call', 'Email'])\n",
        "    action_date = random_date(datetime(2023, 1, 1), datetime(2023, 12, 31)).strftime('%Y-%m-%d')\n",
        "    action_status = random.choice(['Sent', 'Completed', 'No Answer'])\n",
        "    cursor.execute('''\n",
        "    INSERT INTO MassiveActions (debtor_id, action_type, action_date, action_status)\n",
        "    VALUES (?, ?, ?, ?)\n",
        "    ''', (debtor_id, action_type, action_date, action_status))\n"
      ]
    },
    {
      "cell_type": "code",
      "execution_count": null,
      "metadata": {},
      "outputs": [],
      "source": [
        "# Generate Payment Agreements data\n",
        "for _ in range(10000):\n",
        "    debtor_id = random.randint(1000, 2000)\n",
        "    agreement_date = random_date(datetime(2023, 1, 1), datetime(2023, 12, 31)).strftime('%Y-%m-%d')\n",
        "    payment_plan = f'${random.randint(50, 500)} monthly'\n",
        "    due_date = (datetime.strptime(agreement_date, '%Y-%m-%d') + timedelta(days=30)).strftime('%Y-%m-%d')\n",
        "    cursor.execute('''\n",
        "    INSERT INTO PaymentAgreements (debtor_id, agreement_date, payment_plan, due_date)\n",
        "    VALUES (?, ?, ?, ?)\n",
        "    ''', (debtor_id, agreement_date, payment_plan, due_date))\n"
      ]
    },
    {
      "cell_type": "code",
      "execution_count": null,
      "metadata": {},
      "outputs": [],
      "source": [
        "# Generate Payment Confirmations data\n",
        "for _ in range(10000):\n",
        "    debtor_id = random.randint(1000, 2000)\n",
        "    payment_date = random_date(datetime(2023, 1, 1), datetime(2023, 12, 31)).strftime('%Y-%m-%d')\n",
        "    amount_paid = round(random.uniform(50, 500), 2)\n",
        "    receipt_confirmed = random.choice(['Yes', 'No'])\n",
        "    cursor.execute('''\n",
        "    INSERT INTO PaymentConfirmations (debtor_id, payment_date, amount_paid, receipt_confirmed)\n",
        "    VALUES (?, ?, ?, ?)\n",
        "    ''', (debtor_id, payment_date, amount_paid, receipt_confirmed))\n"
      ]
    },
    {
      "cell_type": "code",
      "execution_count": null,
      "metadata": {},
      "outputs": [],
      "source": [
        "# Commit and close\n",
        "conn.commit()\n",
        "conn.close()\n"
      ]
    },
    {
      "cell_type": "code",
      "execution_count": null,
      "id": "ed77732a",
      "metadata": {},
      "outputs": [],
      "source": []
    }
  ],
  "metadata": {
    "kernelspec": {
      "display_name": "Python 3",
      "language": "python",
      "name": "python3"
    },
    "language_info": {
      "codemirror_mode": {
        "name": "ipython",
        "version": 3
      },
      "file_extension": ".py",
      "mimetype": "text/x-python",
      "name": "python",
      "nbconvert_exporter": "python",
      "pygments_lexer": "ipython3",
      "version": "3.10.12"
    }
  },
  "nbformat": 4,
  "nbformat_minor": 5
}
